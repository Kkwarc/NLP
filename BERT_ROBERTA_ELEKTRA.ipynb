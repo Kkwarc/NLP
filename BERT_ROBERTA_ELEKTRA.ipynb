{
 "cells": [
  {
   "cell_type": "markdown",
   "metadata": {},
   "source": []
  },
  {
   "cell_type": "code",
   "execution_count": 1,
   "metadata": {},
   "outputs": [
    {
     "name": "stderr",
     "output_type": "stream",
     "text": [
      "c:\\Users\\kwarc\\PycharmProjects\\NLP\\.venv\\Lib\\site-packages\\tqdm\\auto.py:21: TqdmWarning: IProgress not found. Please update jupyter and ipywidgets. See https://ipywidgets.readthedocs.io/en/stable/user_install.html\n",
      "  from .autonotebook import tqdm as notebook_tqdm\n",
      "c:\\Users\\kwarc\\PycharmProjects\\NLP\\.venv\\Lib\\site-packages\\torchtext\\vocab\\__init__.py:4: UserWarning: \n",
      "/!\\ IMPORTANT WARNING ABOUT TORCHTEXT STATUS /!\\ \n",
      "Torchtext is deprecated and the last released version will be 0.18 (this one). You can silence this warning by calling the following at the beginnign of your scripts: `import torchtext; torchtext.disable_torchtext_deprecation_warning()`\n",
      "  warnings.warn(torchtext._TORCHTEXT_DEPRECATION_MSG)\n",
      "c:\\Users\\kwarc\\PycharmProjects\\NLP\\.venv\\Lib\\site-packages\\torchtext\\utils.py:4: UserWarning: \n",
      "/!\\ IMPORTANT WARNING ABOUT TORCHTEXT STATUS /!\\ \n",
      "Torchtext is deprecated and the last released version will be 0.18 (this one). You can silence this warning by calling the following at the beginnign of your scripts: `import torchtext; torchtext.disable_torchtext_deprecation_warning()`\n",
      "  warnings.warn(torchtext._TORCHTEXT_DEPRECATION_MSG)\n"
     ]
    }
   ],
   "source": [
    "import torch\n",
    "import torch.nn as nn\n",
    "import torch.optim as optim\n",
    "import pandas as pd\n",
    "from sklearn.metrics import confusion_matrix\n",
    "import seaborn as sns\n",
    "import matplotlib.pyplot as plt\n",
    "import copy\n",
    "import time\n",
    "from models import MLP\n",
    "from get_embedded_data import get_data_tokenizer_MLP, split_data, MAPPING\n"
   ]
  },
  {
   "cell_type": "code",
   "execution_count": 2,
   "metadata": {},
   "outputs": [
    {
     "data": {
      "text/plain": [
       "device(type='cuda')"
      ]
     },
     "execution_count": 2,
     "metadata": {},
     "output_type": "execute_result"
    }
   ],
   "source": [
    "device = torch.device(\"cuda\")\n",
    "device"
   ]
  },
  {
   "cell_type": "code",
   "execution_count": 3,
   "metadata": {},
   "outputs": [
    {
     "name": "stderr",
     "output_type": "stream",
     "text": [
      "Some weights of RobertaModel were not initialized from the model checkpoint at roberta-base and are newly initialized: ['roberta.pooler.dense.bias', 'roberta.pooler.dense.weight']\n",
      "You should probably TRAIN this model on a down-stream task to be able to use it for predictions and inference.\n"
     ]
    }
   ],
   "source": [
    "from transformers import BertModel, ElectraModel, RobertaModel\n",
    "from transformers import BertTokenizer, ElectraTokenizer, RobertaTokenizer\n",
    "\n",
    "\n",
    "bert_tokenizer = BertTokenizer.from_pretrained('bert-base-uncased')\n",
    "bert_model = BertModel.from_pretrained('bert-base-uncased')\n",
    "\n",
    "robert_tokenizer = RobertaTokenizer.from_pretrained('roberta-base')\n",
    "robert_model = RobertaModel.from_pretrained('roberta-base')\n",
    "\n",
    "electra_tokenizer = ElectraTokenizer.from_pretrained('google/electra-small-discriminator')\n",
    "electra_model = ElectraModel.from_pretrained('google/electra-small-discriminator')"
   ]
  },
  {
   "cell_type": "code",
   "execution_count": 39,
   "metadata": {},
   "outputs": [],
   "source": [
    "def train_one_ROBERTA(max_epoch, network, train_dataloader, test_dataloader, optimizer, criterion, device):\n",
    "    train_data_df = []\n",
    "    f1_score_train = []\n",
    "    f1_score_test = []\n",
    "\n",
    "\n",
    "    network.train()\n",
    "    best_network = network\n",
    "    best_accuracy = 0\n",
    "    dict_for_stat = {\n",
    "        0: [0,0,0],\n",
    "        1: [0,0,0],\n",
    "        2: [0,0,0],\n",
    "        3: [0,0,0],\n",
    "        4: [0,0,0],\n",
    "        5: [0,0,0],\n",
    "        6: [0,0,0],\n",
    "        7: [0,0,0],\n",
    "        8: [0,0,0]\n",
    "    }\n",
    "    running_loss = 0.0\n",
    "    correct = 0\n",
    "    total = 0\n",
    "    all_labels = []\n",
    "    all_predictions = []\n",
    "    for epoch in range(max_epoch):\n",
    "\n",
    "        running_loss = 0.0\n",
    "        correct = 0\n",
    "        total = 0\n",
    "        for i, data in enumerate(train_dataloader, 0):\n",
    "            inputs, labels = data\n",
    "            inputs, labels = inputs.to(device), labels.to(device)\n",
    "\n",
    "            optimizer.zero_grad()\n",
    "\n",
    "            inputs = torch.flatten(inputs.double(), 1)\n",
    "            outputs = network(inputs)\n",
    "\n",
    "            loss = criterion(outputs, labels)\n",
    "            loss.backward()\n",
    "            optimizer.step()\n",
    "\n",
    "\n",
    "            total += labels.size(0)\n",
    "            _, predicted = torch.max(outputs.data, 1)\n",
    "            correct += (predicted == labels).sum().item()\n",
    "            all_labels.extend(labels.cpu().numpy())\n",
    "            all_predictions.extend(predicted.cpu().numpy())\n",
    "            for pr, lab in zip(predicted, labels):\n",
    "                pr, lab = pr.item(), lab.item()\n",
    "                if pr == lab:\n",
    "                    # TP\n",
    "                    dict_for_stat[pr][0] += 1\n",
    "                    continue\n",
    "                # FN\n",
    "                dict_for_stat[lab][1] += 1\n",
    "                # FP\n",
    "                dict_for_stat[pr][2] += 1\n",
    "\n",
    "            running_loss += loss.item()\n",
    "        print(f\"{epoch}, {loss}\")\n",
    "        running_loss = 0.0\n",
    "\n",
    "        pr_rec_f1 = {}\n",
    "        for key in dict_for_stat.keys():\n",
    "            tp, fn, fp = dict_for_stat[key]\n",
    "            precision = -1 if tp+fp == 0 else tp/(tp+fp)\n",
    "            recall = -1 if tp+fn == 0 else tp/(tp+fn)\n",
    "            f1_score = -1 if tp+fn+fp == 0 else 2*tp/(2*tp+fn+fp)\n",
    "            pr_rec_f1[key] = [precision, recall, f1_score]\n",
    "\n",
    "        running_f1_score = 0\n",
    "        for key in dict_for_stat.keys():\n",
    "            running_f1_score += pr_rec_f1[key][2]\n",
    "        running_f1_score /= len(dict_for_stat.keys())\n",
    "        f1_score_train.append(running_f1_score)\n",
    "\n",
    "        correct = 0\n",
    "        total = 0\n",
    "        all_labels = []\n",
    "        all_predictions = []\n",
    "        network.eval()\n",
    "        for i, data in enumerate(test_dataloader, 0):\n",
    "            inputs, labels = data\n",
    "            x_len = [len(input) for input in inputs]\n",
    "            inputs, labels = inputs.to(device), labels.to(device)\n",
    "            inputs = torch.flatten(inputs.double(), 1)\n",
    "            outputs = network(inputs)\n",
    "            _, predicted = torch.max(outputs.data, 1)\n",
    "            correct += (predicted == labels).sum().item()\n",
    "            all_labels.extend(labels.cpu().numpy())\n",
    "            all_predictions.extend(predicted.cpu().numpy())\n",
    "            for pr, lab in zip(predicted, labels):\n",
    "                pr, lab = pr.item(), lab.item()\n",
    "                if pr == lab:\n",
    "                    # TP\n",
    "                    dict_for_stat[pr][0] += 1\n",
    "                    continue\n",
    "                # FN\n",
    "                dict_for_stat[lab][1] += 1\n",
    "                # FP\n",
    "                dict_for_stat[pr][2] += 1\n",
    "\n",
    "        pr_rec_f1 = {}\n",
    "        for key in dict_for_stat.keys():\n",
    "            tp, fn, fp = dict_for_stat[key]\n",
    "            precision = -1 if tp+fp == 0 else tp/(tp+fp)\n",
    "            recall = -1 if tp+fn == 0 else tp/(tp+fn)\n",
    "            f1_score = -1 if tp+fn+fp == 0 else 2*tp/(2*tp+fn+fp)\n",
    "            pr_rec_f1[key] = [precision, recall, f1_score]\n",
    "\n",
    "        running_f1_score = 0\n",
    "        for key in dict_for_stat.keys():\n",
    "            running_f1_score += pr_rec_f1[key][2]\n",
    "        running_f1_score /= len(dict_for_stat.keys())\n",
    "        f1_score_test.append(running_f1_score)\n",
    "\n",
    "    # final_accuracy = round(100 * correct / total, 3)\n",
    "\n",
    "    return best_network, 0, best_accuracy, all_labels, all_predictions, pr_rec_f1, pd.DataFrame(train_data_df, columns=[\"Epoch\", \"Max Epoch\", \"loss\", \"train data accuracy\", \"test data accuracy\"]),f1_score_train,f1_score_test"
   ]
  },
  {
   "cell_type": "code",
   "execution_count": 34,
   "metadata": {},
   "outputs": [
    {
     "name": "stdout",
     "output_type": "stream",
     "text": [
      "['aristotle' 'freud' 'hegel' 'kant' 'nietzsche' 'plato' 'sartre'\n",
      " 'schopenhauer' 'spinoza']\n"
     ]
    },
    {
     "name": "stderr",
     "output_type": "stream",
     "text": [
      "c:\\Users\\kwarc\\PycharmProjects\\NLP\\.venv\\Lib\\site-packages\\transformers\\tokenization_utils_base.py:2688: FutureWarning: The `pad_to_max_length` argument is deprecated and will be removed in a future version, use `padding=True` or `padding='longest'` to pad to the longest sequence in the batch, or use `padding='max_length'` to pad to a max length. In this case, you can give a specific length with `max_length` (e.g. `max_length=45`) or leave max_length to None to pad to the maximal input size of the model (e.g. 512 for Bert).\n",
      "  warnings.warn(\n"
     ]
    }
   ],
   "source": [
    "models_list = (\"roberta\", robert_tokenizer, robert_model)\n",
    "weigths = None\n",
    "\n",
    "full_data = []\n",
    "X_train, X_test, y_train, y_test = split_data(\"data_set.csv\", \"author\", \"quote\", test_size=0.2, separator=\"@\", mapping=MAPPING,\n",
    "                                            labels_to_delete=[])\n",
    "name, tokenizer, model = models_list\n",
    "train_dataloader, shape = get_data_tokenizer_MLP(batch=20*5, words=X_train, labels=y_train, device=device, tokenizer=tokenizer, model=model)\n",
    "test_dataloader, shape = get_data_tokenizer_MLP(batch=1, words=X_test, labels=y_test, device=device, tokenizer=tokenizer, model=model)\n",
    "network = MLP(shape*125, 125*2, 125, 9, dropout=0).to(device)\n",
    "criterion = nn.CrossEntropyLoss(weight=weigths)\n",
    "optimizer = optim.Adam(network.parameters())"
   ]
  },
  {
   "cell_type": "code",
   "execution_count": 40,
   "metadata": {},
   "outputs": [
    {
     "name": "stdout",
     "output_type": "stream",
     "text": [
      "0, 0.0010285592556285373\n",
      "1, 0.0009377096800597699\n",
      "2, 0.000740954746365866\n",
      "3, 0.0007947354022294051\n",
      "4, 0.0009205025540201786\n",
      "5, 0.0006639396089572897\n",
      "6, 0.0004880279962331149\n",
      "7, 0.0003766187264712973\n",
      "8, 0.0005623312034354253\n",
      "9, 0.000529808952329927\n",
      "10, 0.0005377466489530815\n",
      "11, 0.0006116862181087243\n",
      "12, 0.00046257013169173107\n",
      "13, 0.000461844593707238\n",
      "14, 0.0004413444599455011\n",
      "15, 0.0004513794110219288\n",
      "16, 0.00032439255474226857\n",
      "17, 0.0004501137170379172\n",
      "18, 0.0004723933842396163\n",
      "19, 0.00033506269334044567\n",
      "20, 0.00028808044200233146\n",
      "21, 0.00037430474601610794\n",
      "22, 0.0003079550035448085\n",
      "23, 0.00038411667758059677\n",
      "24, 0.0002453514926452335\n",
      "25, 0.00037160886424861326\n",
      "26, 0.00026651190011134807\n",
      "27, 0.00026613477228424747\n",
      "28, 0.00024340161164632687\n",
      "29, 0.00028834257139729013\n",
      "30, 0.00031464174411806165\n",
      "31, 0.0002610144577133979\n",
      "32, 0.00028458713365681813\n",
      "33, 0.0002637299779949818\n",
      "34, 0.00019712140526843364\n",
      "35, 0.000166502544076571\n",
      "36, 0.0001721079070650214\n",
      "37, 0.00016956486253255062\n",
      "38, 0.0002109546141090616\n",
      "39, 0.00018676605625661413\n"
     ]
    }
   ],
   "source": [
    "best_network, test_acc, best_accuracy, all_labels, all_predictions, pr_rec_f1, train_data,f1_score_train,f1_score_test = train_one_ROBERTA(max_epoch=40, network=network, train_dataloader=train_dataloader, test_dataloader=test_dataloader, optimizer=optimizer, criterion=criterion, device=device)"
   ]
  },
  {
   "cell_type": "code",
   "execution_count": 41,
   "metadata": {},
   "outputs": [
    {
     "name": "stdout",
     "output_type": "stream",
     "text": [
      "[0.8672915922453066, 0.8677526577563767, 0.8680800704412621, 0.8682221776101492, 0.868005844151868, 0.8678880482148484, 0.8680763975239875, 0.8679881130404701, 0.8679227972844088, 0.8676299464256841, 0.8675512510197051, 0.86758671784618, 0.8675013703109177, 0.8675048352229353, 0.8675399661545637, 0.8674664610504029, 0.8675010900684489, 0.8674888159116032, 0.8674669685309889, 0.8674652507239851, 0.8674788241588615, 0.8675023243807479, 0.8675462907850288, 0.8675767939599175, 0.8675700550210098, 0.8675999275125742, 0.8676309125838597, 0.8676467036913825, 0.8676685354123391, 0.8676841980022373, 0.8677424568972032, 0.8677388361059548, 0.8677669472635743, 0.8677675735249301, 0.8677510461526273, 0.8677769587989871, 0.8678161043569556, 0.8678524382807846, 0.8678641992445969, 0.8678815466586726]\n"
     ]
    }
   ],
   "source": [
    "print(f1_score_test)"
   ]
  },
  {
   "cell_type": "code",
   "execution_count": 42,
   "metadata": {},
   "outputs": [
    {
     "name": "stdout",
     "output_type": "stream",
     "text": [
      "[1.0, 0.9264609924008498, 0.9057547514772956, 0.8959441098535359, 0.8901534677474674, 0.8861557125005898, 0.8835750729911847, 0.8816582608816748, 0.8800156929178543, 0.8787356281176923, 0.8774732994893591, 0.8765532897704345, 0.8758890355859514, 0.8752307119756905, 0.874699252271033, 0.874264716411217, 0.8737958009275654, 0.87346701548443, 0.8731604091873547, 0.8728344253322465, 0.8726076886337997, 0.8723689787131267, 0.8721719601690937, 0.8720398345224589, 0.871871562123441, 0.8716919546159202, 0.8715812217369587, 0.8714742714166983, 0.8713340047090542, 0.8712365241100387, 0.8711513895820278, 0.8710595998951866, 0.8709809898435354, 0.8709091134321546, 0.8707963660297713, 0.8707265837825114, 0.870672945228184, 0.8706204959572087, 0.8705861505332931, 0.8705275839607437]\n"
     ]
    }
   ],
   "source": [
    "print(f1_score_train)"
   ]
  },
  {
   "cell_type": "code",
   "execution_count": 43,
   "metadata": {},
   "outputs": [
    {
     "data": {
      "image/png": "[encoded data removed]",
      "text/plain": [
       "<Figure size 640x480 with 1 Axes>"
      ]
     },
     "metadata": {},
     "output_type": "display_data"
    }
   ],
   "source": [
    "import matplotlib.pyplot as plt\n",
    "\n",
    "plt.plot(f1_score_train)\n",
    "plt.plot(f1_score_test)\n",
    "plt.legend(['f1_score_train', 'f1_score_test'])\n",
    "plt.xlabel('Epoch')\n",
    "plt.ylabel('Value')\n",
    "plt.title('Changing of f1_score while training')\n",
    "plt.savefig('learning_plot_2.png')\n",
    "plt.show()"
   ]
  },
  {
   "cell_type": "code",
   "execution_count": 4,
   "metadata": {},
   "outputs": [],
   "source": [
    "def train(max_epoch, network, train_dataloader, test_dataloader, optimizer, criterion):\n",
    "    train_data_df = []\n",
    "\n",
    "    network.train()\n",
    "    best_network = network\n",
    "    best_accuracy = 0\n",
    "    dict_for_stat = {\n",
    "        0: [0,0,0],\n",
    "        1: [0,0,0],\n",
    "        2: [0,0,0],\n",
    "        3: [0,0,0],\n",
    "        4: [0,0,0],\n",
    "        5: [0,0,0],\n",
    "        6: [0,0,0],\n",
    "        7: [0,0,0],\n",
    "        8: [0,0,0]\n",
    "    }\n",
    "    for epoch in range(max_epoch):\n",
    "\n",
    "        running_loss = 0.0\n",
    "        correct = 0\n",
    "        total = 0\n",
    "        for i, data in enumerate(train_dataloader, 0):\n",
    "            inputs, labels = data\n",
    "            inputs, labels = inputs.to(device), labels.to(device)\n",
    "\n",
    "            optimizer.zero_grad()\n",
    "\n",
    "            inputs = torch.flatten(inputs.double(), 1)\n",
    "            outputs = network(inputs)\n",
    "            loss = criterion(outputs, labels)\n",
    "            loss.backward()\n",
    "            optimizer.step()\n",
    "\n",
    "\n",
    "            total += labels.size(0)\n",
    "            _, predicted = torch.max(outputs.data, 1)\n",
    "            correct += (predicted == labels).sum().item()\n",
    "\n",
    "            running_loss += loss.item()\n",
    "\n",
    "\n",
    "        val_correct = 0\n",
    "        val_total = 0\n",
    "        for i, val_data in enumerate(test_dataloader, 0):\n",
    "            val_inputs, val_labels = val_data\n",
    "            val_inputs, val_labels = val_inputs.to(device), val_labels.to(device)\n",
    "\n",
    "            val_inputs = torch.flatten(val_inputs.double(), 1)\n",
    "            val_outputs = network(val_inputs)\n",
    "\n",
    "            val_total += val_labels.size(0)\n",
    "            _, val_predicted = torch.max(val_outputs.data, 1)\n",
    "            val_correct += (val_predicted == val_labels).sum().item()\n",
    "        if round(100 * val_correct / val_total, 3) > best_accuracy:\n",
    "            best_accuracy = round(100 * val_correct / val_total, 3)\n",
    "            best_network = copy.deepcopy(network)\n",
    "\n",
    "        train_loss = running_loss / 2000\n",
    "        train_accuracy = round(100 * correct / total, 3)\n",
    "        val_accuracy = round(100 * val_correct / val_total, 3)\n",
    "        train_data_df.append([epoch+1, max_epoch, round(train_loss, 3), train_accuracy, val_accuracy])\n",
    "\n",
    "        running_loss = 0.0\n",
    "\n",
    "    correct = 0\n",
    "    total = 0\n",
    "    all_labels = []\n",
    "    all_predictions = []\n",
    "    start_time = time.time()\n",
    "    for i, data in enumerate(test_dataloader, 0):\n",
    "        inputs, labels = data\n",
    "        inputs, labels = inputs.to(device), labels.to(device)\n",
    "\n",
    "        inputs = torch.flatten(inputs.double(), 1)\n",
    "        outputs = best_network(inputs)\n",
    "\n",
    "\n",
    "        total += labels.size(0)\n",
    "        _, predicted = torch.max(outputs.data, 1)\n",
    "        correct += (predicted == labels).sum().item()\n",
    "\n",
    "        all_labels.extend(labels.cpu().numpy())\n",
    "        all_predictions.extend(predicted.cpu().numpy())\n",
    "\n",
    "        for pr, lab in zip(predicted, labels):\n",
    "            pr, lab = pr.item(), lab.item()\n",
    "            if pr == lab:\n",
    "                # TP\n",
    "                dict_for_stat[pr][0] += 1\n",
    "                continue\n",
    "            # FN\n",
    "            dict_for_stat[lab][1] += 1\n",
    "            # FP\n",
    "            dict_for_stat[pr][2] += 1\n",
    "    pred_time = start_time - time.time()\n",
    "\n",
    "    pr_rec_f1 = {}\n",
    "    for key in dict_for_stat.keys():\n",
    "        tp, fn, fp = dict_for_stat[key]\n",
    "        precision = -1 if tp+fp == 0 else tp/(tp+fp)\n",
    "        recall = -1 if tp+fn == 0 else tp/(tp+fn)\n",
    "        f1_score = -1 if tp+fn+fp == 0 else 2*tp/(2*tp+fn+fp)\n",
    "        pr_rec_f1[key] = [precision, recall, f1_score]\n",
    "\n",
    "    final_accuracy = round(100 * correct / total, 3)\n",
    "\n",
    "    return best_network, final_accuracy, best_accuracy, all_labels, all_predictions, pr_rec_f1, pred_time, pd.DataFrame(train_data_df, columns=[\"Epoch\", \"Max Epoch\", \"loss\", \"train data accuracy\", \"test data accuracy\"])\n"
   ]
  },
  {
   "cell_type": "code",
   "execution_count": 5,
   "metadata": {},
   "outputs": [
    {
     "name": "stderr",
     "output_type": "stream",
     "text": [
      "Truncation was not explicitly activated but `max_length` is provided a specific value, please use `truncation=True` to explicitly truncate examples to max length. Defaulting to 'longest_first' truncation strategy. If you encode pairs of sequences (GLUE-style) with the tokenizer you can select this strategy more precisely by providing a specific strategy to `truncation`.\n"
     ]
    },
    {
     "name": "stdout",
     "output_type": "stream",
     "text": [
      "['aristotle' 'freud' 'hegel' 'kant' 'nietzsche' 'plato' 'sartre'\n",
      " 'schopenhauer' 'spinoza']\n"
     ]
    },
    {
     "name": "stderr",
     "output_type": "stream",
     "text": [
      "c:\\Users\\kwarc\\PycharmProjects\\NLP\\.venv\\Lib\\site-packages\\transformers\\tokenization_utils_base.py:2688: FutureWarning: The `pad_to_max_length` argument is deprecated and will be removed in a future version, use `padding=True` or `padding='longest'` to pad to the longest sequence in the batch, or use `padding='max_length'` to pad to a max length. In this case, you can give a specific length with `max_length` (e.g. `max_length=45`) or leave max_length to None to pad to the maximal input size of the model (e.g. 512 for Bert).\n",
      "  warnings.warn(\n",
      "Truncation was not explicitly activated but `max_length` is provided a specific value, please use `truncation=True` to explicitly truncate examples to max length. Defaulting to 'longest_first' truncation strategy. If you encode pairs of sequences (GLUE-style) with the tokenizer you can select this strategy more precisely by providing a specific strategy to `truncation`.\n",
      "Truncation was not explicitly activated but `max_length` is provided a specific value, please use `truncation=True` to explicitly truncate examples to max length. Defaulting to 'longest_first' truncation strategy. If you encode pairs of sequences (GLUE-style) with the tokenizer you can select this strategy more precisely by providing a specific strategy to `truncation`.\n"
     ]
    }
   ],
   "source": [
    "models_list = [(\"bert\", bert_tokenizer, bert_model), (\"roberta\", robert_tokenizer, robert_model), (\"electra\", electra_tokenizer, electra_model)]\n",
    "labels_to_delete_list = [[], ['spinoza', \"hegel\", \"plato\"], ['aristotle', 'freud', 'kant', 'nietzsche', 'sartre', 'schopenhauer']]\n",
    "weigth_list = [None, torch.tensor([1,1,2,3,1.33,1.33,5,1,2.5],dtype=torch.double).to(device)]\n",
    "\n",
    "full_data = []\n",
    "for labels_to_delete in labels_to_delete_list:\n",
    "    X_train, X_test, y_train, y_test = split_data(\"data_set.csv\", \"author\", \"quote\", test_size=0.2, separator=\"@\", mapping=MAPPING,\n",
    "                                                labels_to_delete=labels_to_delete)\n",
    "    for name, tokenizer, model in models_list:\n",
    "        train_dataloader, shape = get_data_tokenizer_MLP(batch=20*5, words=X_train, labels=y_train, device=device, tokenizer=tokenizer, model=model)\n",
    "        test_dataloader, shape = get_data_tokenizer_MLP(batch=1, words=X_test, labels=y_test, device=device, tokenizer=tokenizer, model=model)\n",
    "        for weigths in weigth_list:\n",
    "            network = MLP(shape*125, 125*2, 125, 9, dropout=0).to(device)\n",
    "            criterion = nn.CrossEntropyLoss(weight=weigths)\n",
    "            optimizer = optim.Adam(network.parameters())\n",
    "            best_network, test_acc, best_accuracy, all_labels, all_predictions, pr_rec_f1, pred_time, train_data = train(max_epoch=20, network=network, train_dataloader=train_dataloader, test_dataloader=test_dataloader, optimizer=optimizer, criterion=criterion)\n",
    "            weigths = [] if weigths is None else [1,1,2,3,1.33,1.33,5,1,2.5]\n",
    "            torch.save(best_network, f\"train_models/{name}_{labels_to_delete}_{weigths}.pt\")\n",
    "            train_data.to_csv(f\"train_data/{name}_{labels_to_delete}_{weigths}.csv\")\n",
    "            full_data.append([name, labels_to_delete, weigths, test_acc, best_accuracy, all_labels, all_predictions, pr_rec_f1, pred_time])\n",
    "full_data_df = pd.DataFrame(full_data, columns=[\"name\", \"labels_to_delete\", \"weigths\", \"test_acc\", \"best_accuracy\", \"all_labels\", \"all_predictions\", \"pr_rec_f1\", \"pred_time\"])\n",
    "full_data_df.to_csv(\"train_data/full_data.csv\")"
   ]
  },
  {
   "cell_type": "code",
   "execution_count": 6,
   "metadata": {},
   "outputs": [],
   "source": [
    "# cm = confusion_matrix([[MAPPING[x] for x in all_labels], [MAPPING[x] for x in all_predictions])\n",
    "\n",
    "# plt.figure(figsize=(10,7))\n",
    "# sns.heatmap(cm, annot=True, fmt='d', cmap='Blues')\n",
    "# plt.xlabel('Predicted')\n",
    "# plt.ylabel('Actual')\n",
    "# plt.title('Confusion Matrix')\n",
    "# plt.show()"
   ]
  }
 ],
 "metadata": {
  "kernelspec": {
   "display_name": "Python 3",
   "language": "python",
   "name": "python3"
  },
  "language_info": {
   "codemirror_mode": {
    "name": "ipython",
    "version": 3
   },
   "file_extension": ".py",
   "mimetype": "text/x-python",
   "name": "python",
   "nbconvert_exporter": "python",
   "pygments_lexer": "ipython3",
   "version": "3.11.7"
  }
 },
 "nbformat": 4,
 "nbformat_minor": 2
}
