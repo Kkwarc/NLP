{
 "cells": [
  {
   "cell_type": "code",
   "execution_count": null,
   "metadata": {},
   "outputs": [],
   "source": [
    "import torch\n",
    "import torch.nn as nn\n",
    "import torch.optim as optim\n",
    "from models import CNN_Clasificator, LSTM__Clasificator\n",
    "from get_embedded_data import get_data_glove_CNN, get_data_glove_LSTM, get_data_tokenizer_MLP, split_data, MAPPING"
   ]
  },
  {
   "cell_type": "code",
   "execution_count": null,
   "metadata": {},
   "outputs": [],
   "source": [
    "device = torch.device(\"cuda\")\n",
    "device"
   ]
  },
  {
   "cell_type": "code",
   "execution_count": null,
   "metadata": {},
   "outputs": [],
   "source": [
    "# max_len_sentence = 0\n",
    "# pos = 0\n",
    "# for i, sentence in enumerate(list_of_words):\n",
    "#     max_len_sentence, pos = (len(sentence), i) if len(sentence)>max_len_sentence else (max_len_sentence, pos)\n",
    "# max_len_sentence, pos"
   ]
  },
  {
   "cell_type": "code",
   "execution_count": null,
   "metadata": {},
   "outputs": [],
   "source": [
    "# import nltk\n",
    "# from nltk.tokenize import word_tokenize\n",
    "# from gensim.models import Word2Vec\n",
    "# # nltk.download('punkt')\n",
    "\n",
    "# import gensim.downloader as api\n",
    "# corpus = api.load('text8')\n",
    "\n",
    "# with open('data_set.csv', 'r', encoding='utf-8') as dh:\n",
    "#     list_of_words = []\n",
    "#     list_of_targets = []\n",
    "#     for i, line in enumerate(dh):\n",
    "#         if i > 0:\n",
    "#             line = line.strip()\n",
    "#             line = line.split('@')\n",
    "#             line[-1] = word_tokenize(line[-1].lower())\n",
    "#             list_of_words.append(line[-1])\n",
    "#             list_of_targets.append(line[1])\n",
    "#     dh.close()\n",
    "\n",
    "# emb_dim = 100\n",
    "\n",
    "# model = Word2Vec(corpus, min_count=1)\n",
    "# model.build_vocab(list_of_words, update=True)\n",
    "# model.train(list_of_words, total_examples=model.corpus_count, epochs=20)\n",
    "# model.save('word2vec_100d')\n",
    "\n",
    "# # model = Word2Vec.load('word2vec/word2vec_100d')\n",
    "\n",
    "# # Access embeddings\n",
    "# word_embeddings = model.wv\n",
    "# print(model.wv.most_similar(\"folly\"))\n",
    "# print(word_embeddings['superstitious'])\n"
   ]
  },
  {
   "cell_type": "code",
   "execution_count": null,
   "metadata": {},
   "outputs": [],
   "source": [
    "# word2vec_embeddings = []\n",
    "# for sentence in list_of_words:\n",
    "#     emb_sentence = np.empty((100,0))\n",
    "#     for word in sentence:\n",
    "#         emb_sentence = np.hstack((emb_sentence, np.reshape(model.wv[word], (100, 1))))\n",
    "#     word2vec_embeddings.append(torch.from_numpy(emb_sentence))"
   ]
  },
  {
   "cell_type": "code",
   "execution_count": null,
   "metadata": {},
   "outputs": [],
   "source": [
    "# import torchtext\n",
    "# import torchtext.vocab\n",
    "\n",
    "# glove = torchtext.vocab.GloVe(name=\"6B\", dim=100)"
   ]
  },
  {
   "cell_type": "code",
   "execution_count": null,
   "metadata": {},
   "outputs": [],
   "source": [
    "# list_of_inc = []\n",
    "# for i, sen in enumerate(list_of_words):\n",
    "#     counter = 0\n",
    "#     for j, wor in enumerate(sen):\n",
    "#         if wor not in glove:\n",
    "#             counter += 1\n",
    "#     if counter >= 1: list_of_inc.append((i, counter))\n",
    "# print(len(list_of_inc))\n",
    "# list_of_inc"
   ]
  },
  {
   "cell_type": "code",
   "execution_count": null,
   "metadata": {},
   "outputs": [],
   "source": [
    "# abc = []\n",
    "# for i, sen in enumerate(list_of_words):\n",
    "#     for j, wor in enumerate(sen):\n",
    "#             if wor not in glove: abc.append((list_of_targets[i],i, j, wor))"
   ]
  },
  {
   "cell_type": "code",
   "execution_count": null,
   "metadata": {},
   "outputs": [],
   "source": [
    "# miss_by_aut=[]\n",
    "# i = 0\n",
    "# inc = 0\n",
    "# prev_aut = list_of_inc[0][0]\n",
    "# for aut , _, _ in list_of_inc:\n",
    "#     if aut == prev_aut:\n",
    "#         inc += 1\n",
    "#     else:\n",
    "#         miss_by_aut.append([prev_aut, inc])\n",
    "#         prev_aut = aut\n",
    "#         i+=1\n",
    "#         inc = 0\n",
    "# miss_by_aut.append([aut, inc])\n",
    "# miss_by_aut"
   ]
  },
  {
   "cell_type": "code",
   "execution_count": null,
   "metadata": {},
   "outputs": [],
   "source": [
    "# import nltk"
   ]
  },
  {
   "cell_type": "code",
   "execution_count": null,
   "metadata": {},
   "outputs": [],
   "source": [
    "# nltk.download()"
   ]
  },
  {
   "cell_type": "code",
   "execution_count": null,
   "metadata": {},
   "outputs": [],
   "source": [
    "X_train, X_test, y_train, y_test = split_data(\"data_set.csv\", \"author\", \"quote\", test_size=0.2, separator=\"@\", mapping=MAPPING, labels_to_delete=[])"
   ]
  },
  {
   "cell_type": "code",
   "execution_count": null,
   "metadata": {},
   "outputs": [],
   "source": [
    "# dataloader = get_data_BERT_MLP(20, device)\n",
    "train_dataloader = get_data_glove_CNN(200, X_train, y_train)\n",
    "test_dataloader = get_data_glove_CNN(200, X_test, y_test)"
   ]
  },
  {
   "cell_type": "code",
   "execution_count": null,
   "metadata": {},
   "outputs": [],
   "source": [
    "network = CNN_Clasificator().to(device)\n",
    "criterion = nn.CrossEntropyLoss()\n",
    "optimizer = optim.Adam(network.parameters())"
   ]
  },
  {
   "cell_type": "code",
   "execution_count": null,
   "metadata": {},
   "outputs": [],
   "source": [
    "max_epoch = 30\n",
    "network.train()\n",
    "for epoch in range(max_epoch):\n",
    "\n",
    "    running_loss = 0.0\n",
    "    correct = 0\n",
    "    total = 0\n",
    "    for i, data in enumerate(train_dataloader, 0):\n",
    "        inputs, labels = data\n",
    "        inputs, labels = inputs.to(device), labels.to(device)\n",
    "\n",
    "        optimizer.zero_grad()\n",
    "\n",
    "        outputs = network(inputs)\n",
    "        loss = criterion(outputs, labels)\n",
    "        loss.backward()\n",
    "        optimizer.step()\n",
    "\n",
    "\n",
    "        total += labels.size(0)\n",
    "        _, predicted = torch.max(outputs.data, 1)\n",
    "        correct += (predicted == labels).sum().item()\n",
    "\n",
    "        running_loss += loss.item()\n",
    "\n",
    "    print('[%d/%d] loss: %.3f accuracy: %d' %\n",
    "          (epoch+1, max_epoch, running_loss / 2000, 100 * correct / total))\n",
    "    running_loss = 0.0\n",
    "\n",
    "print('Finished Training')\n",
    "\n",
    "correct = 0\n",
    "total = 0\n",
    "for i, data in enumerate(test_dataloader, 0):\n",
    "    inputs, labels = data\n",
    "    inputs, labels = inputs.to(device), labels.to(device)\n",
    "    outputs = network(inputs)\n",
    "    total += labels.size(0)\n",
    "    _, predicted = torch.max(outputs.data, 1)\n",
    "    correct += (predicted == labels).sum().item()\n",
    "\n",
    "print(f\"Test acc: {100 * correct / total}\")"
   ]
  },
  {
   "cell_type": "code",
   "execution_count": null,
   "metadata": {},
   "outputs": [],
   "source": [
    "train_dataloader = get_data_glove_LSTM(200, X_train, y_train)\n",
    "test_dataloader = get_data_glove_LSTM(200, X_test, y_test)"
   ]
  },
  {
   "cell_type": "code",
   "execution_count": null,
   "metadata": {},
   "outputs": [],
   "source": [
    "network = LSTM__Clasificator(80).to(device)\n",
    "criterion = nn.CrossEntropyLoss()\n",
    "optimizer = optim.Adam(network.parameters())"
   ]
  },
  {
   "cell_type": "code",
   "execution_count": null,
   "metadata": {},
   "outputs": [],
   "source": [
    "max_epoch = 30\n",
    "network.train()\n",
    "for epoch in range(max_epoch):\n",
    "\n",
    "    running_loss = 0.0\n",
    "    correct = 0\n",
    "    total = 0\n",
    "    for i, data in enumerate(train_dataloader, 0):\n",
    "        inputs, labels, x_len = data\n",
    "        inputs, labels = inputs.to(device), labels.to(device)\n",
    "\n",
    "        optimizer.zero_grad()\n",
    "        network.prep(200)\n",
    "        outputs = network(inputs)\n",
    "\n",
    "        new_preds = torch.empty((0,9)).to(device)\n",
    "        for i in range(len(outputs)):\n",
    "            new_preds = torch.vstack((new_preds, outputs[i][x_len[i]-1]))\n",
    "\n",
    "        loss = criterion(new_preds, labels)\n",
    "        loss.backward()\n",
    "        optimizer.step()\n",
    "\n",
    "\n",
    "        total += labels.size(0)\n",
    "        _, predicted = torch.max(new_preds.data, 1)\n",
    "        correct += (predicted == labels).sum().item()\n",
    "\n",
    "        running_loss += loss.item()\n",
    "\n",
    "    print('[%d/%d] loss: %.3f accuracy: %d' %\n",
    "          (epoch+1, max_epoch, running_loss / 2000, 100 * correct / total))\n",
    "    running_loss = 0.0"
   ]
  }
 ],
 "metadata": {
  "kernelspec": {
   "display_name": "Python 3",
   "language": "python",
   "name": "python3"
  },
  "language_info": {
   "codemirror_mode": {
    "name": "ipython",
    "version": 3
   },
   "file_extension": ".py",
   "mimetype": "text/x-python",
   "name": "python",
   "nbconvert_exporter": "python",
   "pygments_lexer": "ipython3",
   "version": "3.11.3"
  }
 },
 "nbformat": 4,
 "nbformat_minor": 2
}
