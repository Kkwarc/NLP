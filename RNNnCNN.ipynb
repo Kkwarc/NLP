{
 "cells": [
  {
   "cell_type": "code",
   "execution_count": 1,
   "metadata": {},
   "outputs": [
    {
     "name": "stderr",
     "output_type": "stream",
     "text": [
      "c:\\Users\\kwarc\\PycharmProjects\\NLP\\.venv\\Lib\\site-packages\\tqdm\\auto.py:21: TqdmWarning: IProgress not found. Please update jupyter and ipywidgets. See https://ipywidgets.readthedocs.io/en/stable/user_install.html\n",
      "  from .autonotebook import tqdm as notebook_tqdm\n",
      "c:\\Users\\kwarc\\PycharmProjects\\NLP\\.venv\\Lib\\site-packages\\torchtext\\vocab\\__init__.py:4: UserWarning: \n",
      "/!\\ IMPORTANT WARNING ABOUT TORCHTEXT STATUS /!\\ \n",
      "Torchtext is deprecated and the last released version will be 0.18 (this one). You can silence this warning by calling the following at the beginnign of your scripts: `import torchtext; torchtext.disable_torchtext_deprecation_warning()`\n",
      "  warnings.warn(torchtext._TORCHTEXT_DEPRECATION_MSG)\n",
      "c:\\Users\\kwarc\\PycharmProjects\\NLP\\.venv\\Lib\\site-packages\\torchtext\\utils.py:4: UserWarning: \n",
      "/!\\ IMPORTANT WARNING ABOUT TORCHTEXT STATUS /!\\ \n",
      "Torchtext is deprecated and the last released version will be 0.18 (this one). You can silence this warning by calling the following at the beginnign of your scripts: `import torchtext; torchtext.disable_torchtext_deprecation_warning()`\n",
      "  warnings.warn(torchtext._TORCHTEXT_DEPRECATION_MSG)\n"
     ]
    }
   ],
   "source": [
    "import torch\n",
    "import torch.nn as nn\n",
    "import torch.optim as optim\n",
    "from models import CNN_Clasificator\n",
    "from get_embedded_data import get_data_glove_CNN, get_data_BERT_MLP"
   ]
  },
  {
   "cell_type": "code",
   "execution_count": 2,
   "metadata": {},
   "outputs": [
    {
     "data": {
      "text/plain": [
       "device(type='cuda')"
      ]
     },
     "execution_count": 2,
     "metadata": {},
     "output_type": "execute_result"
    }
   ],
   "source": [
    "device = torch.device(\"cuda\")\n",
    "device"
   ]
  },
  {
   "cell_type": "code",
   "execution_count": 3,
   "metadata": {},
   "outputs": [],
   "source": [
    "# max_len_sentence = 0\n",
    "# pos = 0\n",
    "# for i, sentence in enumerate(list_of_words):\n",
    "#     max_len_sentence, pos = (len(sentence), i) if len(sentence)>max_len_sentence else (max_len_sentence, pos)\n",
    "# max_len_sentence, pos"
   ]
  },
  {
   "cell_type": "code",
   "execution_count": 4,
   "metadata": {},
   "outputs": [],
   "source": [
    "# import nltk\n",
    "# from nltk.tokenize import word_tokenize\n",
    "# from gensim.models import Word2Vec\n",
    "# # nltk.download('punkt')\n",
    "\n",
    "# import gensim.downloader as api\n",
    "# corpus = api.load('text8')\n",
    "\n",
    "# with open('data_set.csv', 'r', encoding='utf-8') as dh:\n",
    "#     list_of_words = []\n",
    "#     list_of_targets = []\n",
    "#     for i, line in enumerate(dh):\n",
    "#         if i > 0:\n",
    "#             line = line.strip()\n",
    "#             line = line.split('@')\n",
    "#             line[-1] = word_tokenize(line[-1].lower())\n",
    "#             list_of_words.append(line[-1])\n",
    "#             list_of_targets.append(line[1])\n",
    "#     dh.close()\n",
    "\n",
    "# emb_dim = 100\n",
    "\n",
    "# model = Word2Vec(corpus, min_count=1)\n",
    "# model.build_vocab(list_of_words, update=True)\n",
    "# model.train(list_of_words, total_examples=model.corpus_count, epochs=20)\n",
    "# model.save('word2vec_100d')\n",
    "\n",
    "# # model = Word2Vec.load('word2vec/word2vec_100d')\n",
    "\n",
    "# # Access embeddings\n",
    "# word_embeddings = model.wv\n",
    "# print(model.wv.most_similar(\"folly\"))\n",
    "# print(word_embeddings['superstitious'])\n"
   ]
  },
  {
   "cell_type": "code",
   "execution_count": 5,
   "metadata": {},
   "outputs": [],
   "source": [
    "# word2vec_embeddings = []\n",
    "# for sentence in list_of_words:\n",
    "#     emb_sentence = np.empty((100,0))\n",
    "#     for word in sentence:\n",
    "#         emb_sentence = np.hstack((emb_sentence, np.reshape(model.wv[word], (100, 1))))\n",
    "#     word2vec_embeddings.append(torch.from_numpy(emb_sentence))"
   ]
  },
  {
   "cell_type": "code",
   "execution_count": 6,
   "metadata": {},
   "outputs": [],
   "source": [
    "# import torchtext\n",
    "# import torchtext.vocab\n",
    "\n",
    "# glove = torchtext.vocab.GloVe(name=\"6B\", dim=100)"
   ]
  },
  {
   "cell_type": "code",
   "execution_count": 7,
   "metadata": {},
   "outputs": [],
   "source": [
    "# list_of_inc = []\n",
    "# for i, sen in enumerate(list_of_words):\n",
    "#     counter = 0\n",
    "#     for j, wor in enumerate(sen):\n",
    "#         if wor not in glove:\n",
    "#             counter += 1\n",
    "#     if counter >= 1: list_of_inc.append((i, counter))\n",
    "# print(len(list_of_inc))\n",
    "# list_of_inc"
   ]
  },
  {
   "cell_type": "code",
   "execution_count": 8,
   "metadata": {},
   "outputs": [],
   "source": [
    "# abc = []\n",
    "# for i, sen in enumerate(list_of_words):\n",
    "#     for j, wor in enumerate(sen):\n",
    "#             if wor not in glove: abc.append((list_of_targets[i],i, j, wor))"
   ]
  },
  {
   "cell_type": "code",
   "execution_count": 9,
   "metadata": {},
   "outputs": [],
   "source": [
    "# miss_by_aut=[]\n",
    "# i = 0\n",
    "# inc = 0\n",
    "# prev_aut = list_of_inc[0][0]\n",
    "# for aut , _, _ in list_of_inc:\n",
    "#     if aut == prev_aut:\n",
    "#         inc += 1\n",
    "#     else:\n",
    "#         miss_by_aut.append([prev_aut, inc])\n",
    "#         prev_aut = aut\n",
    "#         i+=1\n",
    "#         inc = 0\n",
    "# miss_by_aut.append([aut, inc])\n",
    "# miss_by_aut"
   ]
  },
  {
   "cell_type": "code",
   "execution_count": 10,
   "metadata": {},
   "outputs": [],
   "source": [
    "# import nltk"
   ]
  },
  {
   "cell_type": "code",
   "execution_count": 11,
   "metadata": {},
   "outputs": [],
   "source": [
    "# nltk.download()"
   ]
  },
  {
   "cell_type": "code",
   "execution_count": 12,
   "metadata": {},
   "outputs": [],
   "source": [
    "# dataloader = get_data_BERT_MLP(20, device)\n",
    "dataloader = get_data_glove_CNN(200)"
   ]
  },
  {
   "cell_type": "code",
   "execution_count": 13,
   "metadata": {},
   "outputs": [],
   "source": [
    "network = CNN_Clasificator().to(device)\n",
    "criterion = nn.CrossEntropyLoss()\n",
    "optimizer = optim.Adam(network.parameters())"
   ]
  },
  {
   "cell_type": "code",
   "execution_count": 14,
   "metadata": {},
   "outputs": [
    {
     "name": "stdout",
     "output_type": "stream",
     "text": [
      "[1/30] loss: 0.013 accuracy: 16\n",
      "[2/30] loss: 0.012 accuracy: 21\n",
      "[3/30] loss: 0.012 accuracy: 22\n",
      "[4/30] loss: 0.012 accuracy: 24\n",
      "[5/30] loss: 0.012 accuracy: 25\n",
      "[6/30] loss: 0.011 accuracy: 29\n",
      "[7/30] loss: 0.011 accuracy: 33\n",
      "[8/30] loss: 0.011 accuracy: 33\n"
     ]
    },
    {
     "ename": "",
     "evalue": "",
     "output_type": "error",
     "traceback": [
      "\u001b[1;31mThe Kernel crashed while executing code in the current cell or a previous cell. \n",
      "\u001b[1;31mPlease review the code in the cell(s) to identify a possible cause of the failure. \n",
      "\u001b[1;31mClick <a href='https://aka.ms/vscodeJupyterKernelCrash'>here</a> for more info. \n",
      "\u001b[1;31mView Jupyter <a href='command:jupyter.viewOutput'>log</a> for further details."
     ]
    }
   ],
   "source": [
    "max_epoch = 30\n",
    "network.train()\n",
    "for epoch in range(max_epoch):\n",
    "\n",
    "    running_loss = 0.0\n",
    "    correct = 0\n",
    "    total = 0\n",
    "    for i, data in enumerate(dataloader, 0):\n",
    "        inputs, labels = data\n",
    "        inputs, labels = inputs.to(device), labels.to(device)\n",
    "\n",
    "        optimizer.zero_grad()\n",
    "\n",
    "        outputs = network(inputs)\n",
    "        loss = criterion(outputs, labels)\n",
    "        loss.backward()\n",
    "        optimizer.step()\n",
    "\n",
    "\n",
    "        total += labels.size(0)\n",
    "        _, predicted = torch.max(outputs.data, 1)\n",
    "        correct += (predicted == labels).sum().item()\n",
    "\n",
    "        running_loss += loss.item()\n",
    "\n",
    "    print('[%d/%d] loss: %.3f accuracy: %d' %\n",
    "          (epoch+1, max_epoch, running_loss / 2000, 100 * correct / total))\n",
    "    running_loss = 0.0\n",
    "\n",
    "print('Finished Training')"
   ]
  }
 ],
 "metadata": {
  "kernelspec": {
   "display_name": "Python 3",
   "language": "python",
   "name": "python3"
  },
  "language_info": {
   "codemirror_mode": {
    "name": "ipython",
    "version": 3
   },
   "file_extension": ".py",
   "mimetype": "text/x-python",
   "name": "python",
   "nbconvert_exporter": "python",
   "pygments_lexer": "ipython3",
   "version": "3.11.7"
  }
 },
 "nbformat": 4,
 "nbformat_minor": 2
}
