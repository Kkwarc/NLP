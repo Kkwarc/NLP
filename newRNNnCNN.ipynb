{
 "cells": [
  {
   "cell_type": "markdown",
   "metadata": {},
   "source": []
  },
  {
   "cell_type": "code",
   "execution_count": 1,
   "metadata": {},
   "outputs": [
    {
     "name": "stderr",
     "output_type": "stream",
     "text": [
      "c:\\Users\\kwarc\\PycharmProjects\\NLP\\.venv\\Lib\\site-packages\\tqdm\\auto.py:21: TqdmWarning: IProgress not found. Please update jupyter and ipywidgets. See https://ipywidgets.readthedocs.io/en/stable/user_install.html\n",
      "  from .autonotebook import tqdm as notebook_tqdm\n",
      "c:\\Users\\kwarc\\PycharmProjects\\NLP\\.venv\\Lib\\site-packages\\torchtext\\vocab\\__init__.py:4: UserWarning: \n",
      "/!\\ IMPORTANT WARNING ABOUT TORCHTEXT STATUS /!\\ \n",
      "Torchtext is deprecated and the last released version will be 0.18 (this one). You can silence this warning by calling the following at the beginnign of your scripts: `import torchtext; torchtext.disable_torchtext_deprecation_warning()`\n",
      "  warnings.warn(torchtext._TORCHTEXT_DEPRECATION_MSG)\n",
      "c:\\Users\\kwarc\\PycharmProjects\\NLP\\.venv\\Lib\\site-packages\\torchtext\\utils.py:4: UserWarning: \n",
      "/!\\ IMPORTANT WARNING ABOUT TORCHTEXT STATUS /!\\ \n",
      "Torchtext is deprecated and the last released version will be 0.18 (this one). You can silence this warning by calling the following at the beginnign of your scripts: `import torchtext; torchtext.disable_torchtext_deprecation_warning()`\n",
      "  warnings.warn(torchtext._TORCHTEXT_DEPRECATION_MSG)\n"
     ]
    }
   ],
   "source": [
    "import torch\n",
    "import torch.nn as nn\n",
    "import torch.optim as optim\n",
    "from sklearn.metrics import confusion_matrix\n",
    "import seaborn as sns\n",
    "import matplotlib.pyplot as plt\n",
    "import copy\n",
    "from models import MLP\n",
    "from get_embedded_data import get_data_tokenizer_MLP, split_data, MAPPING\n"
   ]
  },
  {
   "cell_type": "code",
   "execution_count": 2,
   "metadata": {},
   "outputs": [
    {
     "data": {
      "text/plain": [
       "device(type='cuda')"
      ]
     },
     "execution_count": 2,
     "metadata": {},
     "output_type": "execute_result"
    }
   ],
   "source": [
    "device = torch.device(\"cuda\")\n",
    "device"
   ]
  },
  {
   "cell_type": "code",
   "execution_count": 3,
   "metadata": {},
   "outputs": [
    {
     "name": "stderr",
     "output_type": "stream",
     "text": [
      "Some weights of RobertaModel were not initialized from the model checkpoint at roberta-base and are newly initialized: ['roberta.pooler.dense.bias', 'roberta.pooler.dense.weight']\n",
      "You should probably TRAIN this model on a down-stream task to be able to use it for predictions and inference.\n"
     ]
    }
   ],
   "source": [
    "from transformers import BertModel, ElectraModel, RobertaModel\n",
    "from transformers import BertTokenizer, ElectraTokenizer, RobertaTokenizer\n",
    "\n",
    "\n",
    "bert_tokenizer = BertTokenizer.from_pretrained('bert-base-uncased')\n",
    "bert_model = BertModel.from_pretrained('bert-base-uncased')\n",
    "\n",
    "robert_tokenizer = RobertaTokenizer.from_pretrained('roberta-base')\n",
    "robert_model = RobertaModel.from_pretrained('roberta-base')\n",
    "\n",
    "electra_tokenizer = ElectraTokenizer.from_pretrained('google/electra-small-discriminator')\n",
    "electra_model = ElectraModel.from_pretrained('google/electra-small-discriminator')"
   ]
  },
  {
   "cell_type": "code",
   "execution_count": 4,
   "metadata": {},
   "outputs": [],
   "source": [
    "# tokenizer = bert_tokenizer\n",
    "# model = bert_model\n",
    "\n",
    "tokenizer = robert_tokenizer\n",
    "model = robert_model\n",
    "\n",
    "# tokenizer = electra_tokenizer\n",
    "# model = electra_model"
   ]
  },
  {
   "cell_type": "code",
   "execution_count": 5,
   "metadata": {},
   "outputs": [
    {
     "name": "stdout",
     "output_type": "stream",
     "text": [
      "['aristotle' 'freud' 'hegel' 'kant' 'nietzsche' 'plato' 'sartre'\n",
      " 'schopenhauer' 'spinoza']\n"
     ]
    }
   ],
   "source": [
    "X_train, X_test, y_train, y_test = split_data(\"data_set.csv\", \"author\", \"quote\", test_size=0.2, separator=\"@\", mapping=MAPPING,\n",
    "                                              labels_to_delete=['spinoza', \"hegel\", \"plato\"])"
   ]
  },
  {
   "cell_type": "code",
   "execution_count": 6,
   "metadata": {},
   "outputs": [
    {
     "name": "stderr",
     "output_type": "stream",
     "text": [
      "Truncation was not explicitly activated but `max_length` is provided a specific value, please use `truncation=True` to explicitly truncate examples to max length. Defaulting to 'longest_first' truncation strategy. If you encode pairs of sequences (GLUE-style) with the tokenizer you can select this strategy more precisely by providing a specific strategy to `truncation`.\n",
      "c:\\Users\\kwarc\\PycharmProjects\\NLP\\.venv\\Lib\\site-packages\\transformers\\tokenization_utils_base.py:2688: FutureWarning: The `pad_to_max_length` argument is deprecated and will be removed in a future version, use `padding=True` or `padding='longest'` to pad to the longest sequence in the batch, or use `padding='max_length'` to pad to a max length. In this case, you can give a specific length with `max_length` (e.g. `max_length=45`) or leave max_length to None to pad to the maximal input size of the model (e.g. 512 for Bert).\n",
      "  warnings.warn(\n"
     ]
    }
   ],
   "source": [
    "train_dataloader, shape = get_data_tokenizer_MLP(batch=20*5, words=X_train, labels=y_train, device=device, tokenizer=tokenizer, model=model)\n",
    "test_dataloader, shape = get_data_tokenizer_MLP(batch=1, words=X_test, labels=y_test, device=device, tokenizer=tokenizer, model=model)"
   ]
  },
  {
   "cell_type": "code",
   "execution_count": 7,
   "metadata": {},
   "outputs": [],
   "source": [
    "network = MLP(shape*125, 125*2, 125, 9).to(device)\n",
    "criterion = nn.CrossEntropyLoss(weight=torch.tensor([1,1,2,3,1.33,1.33,5,1,2.5],dtype=torch.double).to(device))  # weight=torch.tensor([1,1,2,3,1.33,1.33,5,1,2.5],dtype=torch.double).to(device)\n",
    "optimizer = optim.Adam(network.parameters())"
   ]
  },
  {
   "cell_type": "code",
   "execution_count": 8,
   "metadata": {},
   "outputs": [
    {
     "name": "stdout",
     "output_type": "stream",
     "text": [
      "Test accuracy: 23.51543942992874\n",
      "[1/20] loss: 0.016 accuracy: 22\n",
      "Test accuracy: 38.47980997624703\n",
      "[2/20] loss: 0.011 accuracy: 44\n",
      "Test accuracy: 40.61757719714964\n",
      "[3/20] loss: 0.009 accuracy: 56\n",
      "Test accuracy: 38.47980997624703\n",
      "[4/20] loss: 0.007 accuracy: 68\n",
      "Test accuracy: 43.705463182897866\n",
      "[5/20] loss: 0.006 accuracy: 76\n",
      "Test accuracy: 46.080760095011875\n",
      "[6/20] loss: 0.004 accuracy: 85\n",
      "Test accuracy: 44.180522565320665\n",
      "[7/20] loss: 0.003 accuracy: 91\n",
      "Test accuracy: 41.09263657957245\n",
      "[8/20] loss: 0.002 accuracy: 93\n",
      "Test accuracy: 41.33016627078385\n",
      "[9/20] loss: 0.002 accuracy: 94\n",
      "Test accuracy: 45.605700712589076\n",
      "[10/20] loss: 0.001 accuracy: 98\n",
      "Test accuracy: 44.418052256532064\n",
      "[11/20] loss: 0.001 accuracy: 99\n",
      "Test accuracy: 44.89311163895487\n",
      "[12/20] loss: 0.000 accuracy: 99\n",
      "Test accuracy: 45.605700712589076\n",
      "[13/20] loss: 0.000 accuracy: 99\n",
      "Test accuracy: 44.65558194774347\n",
      "[14/20] loss: 0.000 accuracy: 99\n",
      "Test accuracy: 44.65558194774347\n",
      "[15/20] loss: 0.000 accuracy: 100\n",
      "Test accuracy: 45.605700712589076\n",
      "[16/20] loss: 0.000 accuracy: 100\n",
      "Test accuracy: 45.605700712589076\n",
      "[17/20] loss: 0.000 accuracy: 100\n",
      "Test accuracy: 46.318289786223275\n",
      "[18/20] loss: 0.000 accuracy: 100\n",
      "Test accuracy: 45.843230403800476\n",
      "[19/20] loss: 0.000 accuracy: 100\n",
      "Test accuracy: 45.13064133016627\n",
      "[20/20] loss: 0.000 accuracy: 100\n",
      "Finished Training\n",
      "Test accuracy: 46.318289786223275\n"
     ]
    },
    {
     "data": {
      "image/png": "[encoded data removed]",
      "text/plain": [
       "<Figure size 1000x700 with 2 Axes>"
      ]
     },
     "metadata": {},
     "output_type": "display_data"
    }
   ],
   "source": [
    "max_epoch = 20\n",
    "network.train()\n",
    "best_network = network\n",
    "best_accuracy = 0\n",
    "for epoch in range(max_epoch):\n",
    "\n",
    "    running_loss = 0.0\n",
    "    correct = 0\n",
    "    total = 0\n",
    "    for i, data in enumerate(train_dataloader, 0):\n",
    "        inputs, labels = data\n",
    "        inputs, labels = inputs.to(device), labels.to(device)\n",
    "\n",
    "        optimizer.zero_grad()\n",
    "\n",
    "        inputs = torch.flatten(inputs.double(), 1)\n",
    "        outputs = network(inputs)\n",
    "        loss = criterion(outputs, labels)\n",
    "        loss.backward()\n",
    "        optimizer.step()\n",
    "\n",
    "\n",
    "        total += labels.size(0)\n",
    "        _, predicted = torch.max(outputs.data, 1)\n",
    "        correct += (predicted == labels).sum().item()\n",
    "\n",
    "        running_loss += loss.item()\n",
    "\n",
    "\n",
    "    val_correct = 0\n",
    "    val_total = 0\n",
    "    for i, val_data in enumerate(test_dataloader, 0):\n",
    "        val_inputs, val_labels = val_data\n",
    "        val_inputs, val_labels = val_inputs.to(device), val_labels.to(device)\n",
    "\n",
    "        val_inputs = torch.flatten(val_inputs.double(), 1)\n",
    "        val_outputs = network(val_inputs)\n",
    "\n",
    "        val_total += val_labels.size(0)\n",
    "        _, val_predicted = torch.max(val_outputs.data, 1)\n",
    "        val_correct += (val_predicted == val_labels).sum().item()\n",
    "    if 100 * val_correct / val_total > best_accuracy:\n",
    "        best_accuracy = 100 * val_correct / val_total\n",
    "        best_network = copy.deepcopy(network)\n",
    "    print(f\"Test accuracy: {100 * val_correct / val_total}\")\n",
    "\n",
    "\n",
    "    print('[%d/%d] loss: %.3f accuracy: %d' %\n",
    "          (epoch+1, max_epoch, running_loss / 2000, 100 * correct / total))\n",
    "    running_loss = 0.0\n",
    "\n",
    "print('Finished Training')\n",
    "\n",
    "correct = 0\n",
    "total = 0\n",
    "all_labels = []\n",
    "all_predictions = []\n",
    "for i, data in enumerate(test_dataloader, 0):\n",
    "    inputs, labels = data\n",
    "    inputs, labels = inputs.to(device), labels.to(device)\n",
    "\n",
    "    inputs = torch.flatten(inputs.double(), 1)\n",
    "    outputs = best_network(inputs)\n",
    "\n",
    "\n",
    "    total += labels.size(0)\n",
    "    _, predicted = torch.max(outputs.data, 1)\n",
    "    correct += (predicted == labels).sum().item()\n",
    "\n",
    "    all_labels.extend(labels.cpu().numpy())\n",
    "    all_predictions.extend(predicted.cpu().numpy())\n",
    "\n",
    "print(f\"Test accuracy: {100 * correct / total}\")\n",
    "\n",
    "cm = confusion_matrix(all_labels, all_predictions)\n",
    "\n",
    "plt.figure(figsize=(10,7))\n",
    "sns.heatmap(cm, annot=True, fmt='d', cmap='Blues')\n",
    "plt.xlabel('Predicted')\n",
    "plt.ylabel('Actual')\n",
    "plt.title('Confusion Matrix')\n",
    "plt.show()\n"
   ]
  }
 ],
 "metadata": {
  "kernelspec": {
   "display_name": "Python 3",
   "language": "python",
   "name": "python3"
  },
  "language_info": {
   "codemirror_mode": {
    "name": "ipython",
    "version": 3
   },
   "file_extension": ".py",
   "mimetype": "text/x-python",
   "name": "python",
   "nbconvert_exporter": "python",
   "pygments_lexer": "ipython3",
   "version": "3.11.7"
  }
 },
 "nbformat": 4,
 "nbformat_minor": 2
}
